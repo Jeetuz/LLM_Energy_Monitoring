{
 "cells": [
  {
   "cell_type": "code",
   "execution_count": null,
   "id": "dfd1501c",
   "metadata": {},
   "outputs": [],
   "source": [
    "# pip install pandas groq matplotlib"
   ]
  },
  {
   "cell_type": "code",
   "execution_count": 102,
   "id": "36ec1a36",
   "metadata": {},
   "outputs": [],
   "source": [
    "import pandas as pd\n",
    "from groq import Groq\n",
    "import matplotlib.pyplot as plt\n",
    "import re"
   ]
  },
  {
   "cell_type": "code",
   "execution_count": null,
   "id": "51cfb395",
   "metadata": {},
   "outputs": [],
   "source": [
    "# Change API key / Enter Your API Key\n",
    "client = Groq(api_key=\" \")"
   ]
  },
  {
   "cell_type": "code",
   "execution_count": null,
   "id": "bedeffe7",
   "metadata": {},
   "outputs": [
    {
     "name": "stderr",
     "output_type": "stream",
     "text": [
      "C:\\Users\\Jeet\\AppData\\Local\\Temp\\ipykernel_31028\\3609433623.py:1: FutureWarning: Support for nested sequences for 'parse_dates' in pd.read_csv is deprecated. Combine the desired columns with pd.to_datetime after parsing instead.\n",
      "  df = pd.read_csv('household_power_consumption.txt',\n",
      "C:\\Users\\Jeet\\AppData\\Local\\Temp\\ipykernel_31028\\3609433623.py:1: FutureWarning: The argument 'infer_datetime_format' is deprecated and will be removed in a future version. A strict version of it is now the default, see https://pandas.pydata.org/pdeps/0004-consistent-to-datetime-parsing.html. You can safely remove this argument.\n",
      "  df = pd.read_csv('household_power_consumption.txt',\n",
      "C:\\Users\\Jeet\\AppData\\Local\\Temp\\ipykernel_31028\\3609433623.py:1: UserWarning: Parsing dates in %d/%m/%Y %H:%M:%S format when dayfirst=False (the default) was specified. Pass `dayfirst=True` or specify a format to silence this warning.\n",
      "  df = pd.read_csv('household_power_consumption.txt',\n"
     ]
    }
   ],
   "source": [
    "# Pre-processing the data\n",
    "df = pd.read_csv('household_power_consumption.txt',\n",
    "                 sep=';',\n",
    "                 parse_dates={'datetime': ['Date', 'Time']},\n",
    "                 infer_datetime_format=True,\n",
    "                 na_values=['?'],\n",
    "                 low_memory=False)\n",
    "\n",
    "df = df.dropna()\n",
    "df['Global_active_power'] = df['Global_active_power'].astype(float)\n",
    "df = df.set_index('datetime')\n"
   ]
  },
  {
   "cell_type": "code",
   "execution_count": null,
   "id": "613787a5",
   "metadata": {},
   "outputs": [],
   "source": [
    "# Giving LLM Context of CSV File Data\n",
    "DATA_CONTEXT = \"\"\"\n",
    "You are working with a pandas DataFrame named df. \n",
    "- It has a datetime index (from merging Date and Time columns) and these columns:\n",
    "Global_active_power (float), Global_reactive_power, Voltage, Global_intensity, Sub_metering_1, Sub_metering_2, Sub_metering_3.\n",
    "Missing values have been dropped and Global_active_power is float.\n",
    "\n",
    "When working with dates:\n",
    "- Use .loc['YYYY-MM-DD'] for date filtering\n",
    "- Access datetime components via .index.component (e.g .index.hour)\n",
    "- Never create new datetime objects from strings\n",
    "\n",
    "When filtering time series data:\n",
    "- First resample to the desired frequency\n",
    "- Create filters directly from the resampled Series\n",
    "- Never mix indices from different frequencies\n",
    "\n",
    "\"\"\"\n",
    "# Cleaning LLM Response Code\n",
    "def clean_code(code):\n",
    "    \n",
    "    return re.sub(r\"^```.*$\", \"\", code, flags=re.MULTILINE).strip()\n",
    "\n",
    "# Function To Execute Code\n",
    "def generate_and_execute(prompt):\n",
    "    full_prompt = f\"{DATA_CONTEXT}\\n\\n{prompt}\\nReturn only the Python code, no explanation.\"\n",
    "    response = client.chat.completions.create(\n",
    "        model=\"llama-3.1-8b-instant\",\n",
    "        messages=[{\"role\": \"user\", \"content\": full_prompt}],\n",
    "        temperature=0.2\n",
    "    )\n",
    "    code = response.choices[0].message.content\n",
    "    print(\"Generated code:\\n\", code)\n",
    "    cleaned_code = clean_code(code)\n",
    "    exec(cleaned_code, globals())\n"
   ]
  },
  {
   "cell_type": "code",
   "execution_count": null,
   "id": "c09e02fe",
   "metadata": {},
   "outputs": [
    {
     "name": "stdout",
     "output_type": "stream",
     "text": [
      "Generated code:\n",
      " ```python\n",
      "average_power = df.loc['2007-03-01':'2007-03-31'].resample('1min').mean().loc['2007-03-01':'2007-03-31'].Global_active_power.mean()\n",
      "print(average_power)\n",
      "```\n",
      "1.318627030175407\n"
     ]
    }
   ],
   "source": [
    "# March 2007 Average\n",
    "generate_and_execute(\n",
    "    \"Calculate and print the single average value of Global_active_power for all rows in March 2007 (not per day, but for the entire month as a single value).\"\n",
    ")\n"
   ]
  },
  {
   "cell_type": "code",
   "execution_count": null,
   "id": "b0c29d6f",
   "metadata": {},
   "outputs": [
    {
     "name": "stdout",
     "output_type": "stream",
     "text": [
      "Generated code:\n",
      " ```python\n",
      "hourly_power = df.loc['2006-12-25'].resample('1h').mean()['Global_active_power']\n",
      "max_power_hour = hourly_power.idxmax()\n",
      "print(df.loc[max_power_hour])\n",
      "```\n",
      "Global_active_power        3.600\n",
      "Global_reactive_power      0.196\n",
      "Voltage                  236.460\n",
      "Global_intensity          15.600\n",
      "Sub_metering_1             2.000\n",
      "Sub_metering_2            17.000\n",
      "Sub_metering_3            17.000\n",
      "Name: 2006-12-25 22:00:00, dtype: float64\n"
     ]
    }
   ],
   "source": [
    "# Highest Hour Consumption on Christmas\n",
    "generate_and_execute(\n",
    "    \"Find hour with highest power usage on 25-12-2006\"\n",
    "    \"using index-based datetime operations\"\n",
    ")\n"
   ]
  },
  {
   "cell_type": "code",
   "execution_count": null,
   "id": "1cb18adf",
   "metadata": {},
   "outputs": [
    {
     "name": "stdout",
     "output_type": "stream",
     "text": [
      "Generated code:\n",
      " ```python\n",
      "# Resample data to daily frequency\n",
      "daily_df = df.resample('D').mean()\n",
      "\n",
      "# Filter weekdays and weekends\n",
      "weekdays = daily_df.loc[daily_df.index.weekday < 5]['Global_active_power']\n",
      "weekends = daily_df.loc[daily_df.index.weekday >= 5]['Global_active_power']\n",
      "\n",
      "# Print the results\n",
      "print('Mean Global_active_power on weekdays:', weekdays.mean())\n",
      "print('Mean Global_active_power on weekends:', weekends.mean())\n",
      "```\n",
      "Mean Global_active_power on weekdays: 1.0366861398387823\n",
      "Mean Global_active_power on weekends: 1.2311321638722603\n"
     ]
    }
   ],
   "source": [
    "# Mean Active Power on weekdays vs weekends\n",
    "generate_and_execute(\n",
    "    \"Compare mean Global_active_power between weekdays and weekends. Print the results.\"\n",
    ")\n"
   ]
  },
  {
   "cell_type": "code",
   "execution_count": null,
   "id": "e0a70c5b",
   "metadata": {},
   "outputs": [
    {
     "name": "stdout",
     "output_type": "stream",
     "text": [
      "Generated code:\n",
      " ```python\n",
      "import matplotlib.pyplot as plt\n",
      "\n",
      "# Filter the first week of January 2007\n",
      "df_first_week = df.loc['2007-01-01':'2007-01-07']\n",
      "\n",
      "# Resample to daily frequency\n",
      "df_resampled_daily = df_first_week.resample('D').mean()\n",
      "\n",
      "# Plot the Global_active_power trend\n",
      "plt.figure(figsize=(10,6))\n",
      "plt.plot(df_resampled_daily.index, df_resampled_daily['Global_active_power'], label='Global_active_power')\n",
      "plt.title('Global_active_power Trend for the First Week of January 2007')\n",
      "plt.xlabel('Date')\n",
      "plt.ylabel('Global_active_power (kW)')\n",
      "plt.legend()\n",
      "plt.show()\n",
      "```\n"
     ]
    },
    {
     "data": {
      "image/png": "[encoded data removed]",
      "text/plain": [
       "<Figure size 1000x600 with 1 Axes>"
      ]
     },
     "metadata": {},
     "output_type": "display_data"
    }
   ],
   "source": [
    "# Plotting Active Power Trend for first week of January\n",
    "generate_and_execute(\n",
    "    \"Plot the Global_active_power trend for the first week of January 2007 using matplotlib. Include title and axis labels.\"\n",
    ")\n",
    "plt.show()\n"
   ]
  },
  {
   "cell_type": "code",
   "execution_count": null,
   "id": "e660efb1",
   "metadata": {},
   "outputs": [
    {
     "name": "stdout",
     "output_type": "stream",
     "text": [
      "Generated code:\n",
      " ```python\n",
      "# Resample to daily frequency and calculate daily total energy consumption in kWh\n",
      "daily_energy = df['Global_active_power'].resample('D').sum() * 60  # convert kW to kWh\n",
      "\n",
      "# Print all dates where the daily energy exceeds 5 kWh\n",
      "print(daily_energy[daily_energy > 5].index)\n",
      "```\n",
      "DatetimeIndex(['2006-12-16', '2006-12-17', '2006-12-18', '2006-12-19',\n",
      "               '2006-12-20', '2006-12-21', '2006-12-22', '2006-12-23',\n",
      "               '2006-12-24', '2006-12-25',\n",
      "               ...\n",
      "               '2010-11-17', '2010-11-18', '2010-11-19', '2010-11-20',\n",
      "               '2010-11-21', '2010-11-22', '2010-11-23', '2010-11-24',\n",
      "               '2010-11-25', '2010-11-26'],\n",
      "              dtype='datetime64[ns]', name='datetime', length=1433, freq=None)\n"
     ]
    }
   ],
   "source": [
    "# Dates where daily energy consumption exceeds 5 kWh \n",
    "generate_and_execute(\n",
    "    \"Calculate the daily total energy consumption in kWh by converting each Global_active_power reading (in kW, sampled every minute) to kWh, then sum per day. Print all dates where the daily energy exceeds 5 kWh\"\n",
    ")\n"
   ]
  },
  {
   "cell_type": "code",
   "execution_count": null,
   "id": "3472554b",
   "metadata": {},
   "outputs": [
    {
     "name": "stdout",
     "output_type": "stream",
     "text": [
      "Generated code:\n",
      " ```python\n",
      "# Resample to daily frequency and calculate average Voltage\n",
      "daily_avg_voltage = df.resample('D').mean().loc['2007-02-01':'2007-02-07']['Voltage']\n",
      "\n",
      "# Print the results\n",
      "print(daily_avg_voltage)\n",
      "```\n",
      "datetime\n",
      "2007-02-01    240.392139\n",
      "2007-02-02    240.334389\n",
      "2007-02-03    238.910194\n",
      "2007-02-04    239.633333\n",
      "2007-02-05    240.810312\n",
      "2007-02-06    241.264160\n",
      "2007-02-07    241.149694\n",
      "Freq: D, Name: Voltage, dtype: float64\n"
     ]
    }
   ],
   "source": [
    "# Average Voltage for each day in first week of Feb 2007\n",
    "generate_and_execute(\n",
    "    \"Calculate the average Voltage for each day of the first week of February 2007 and print the results. Using index-based datetime operations\"\n",
    ")\n"
   ]
  },
  {
   "cell_type": "code",
   "execution_count": null,
   "id": "bc9ed67c",
   "metadata": {},
   "outputs": [
    {
     "name": "stdout",
     "output_type": "stream",
     "text": [
      "Generated code:\n",
      " ```python\n",
      "import pandas as pd\n",
      "import numpy as np\n",
      "\n",
      "# Resample the data to daily frequency\n",
      "daily_df = df.resample('D').mean()\n",
      "\n",
      "# Calculate the correlation matrix\n",
      "corr_matrix = daily_df[['Global_active_power', 'Sub_metering_1', 'Sub_metering_2', 'Sub_metering_3']].corr()\n",
      "\n",
      "# Print the correlation matrix\n",
      "print(corr_matrix)\n",
      "```\n",
      "                     Global_active_power  Sub_metering_1  Sub_metering_2  \\\n",
      "Global_active_power             1.000000        0.541115        0.474655   \n",
      "Sub_metering_1                  0.541115        1.000000        0.249159   \n",
      "Sub_metering_2                  0.474655        0.249159        1.000000   \n",
      "Sub_metering_3                  0.728800        0.301549        0.196551   \n",
      "\n",
      "                     Sub_metering_3  \n",
      "Global_active_power        0.728800  \n",
      "Sub_metering_1             0.301549  \n",
      "Sub_metering_2             0.196551  \n",
      "Sub_metering_3             1.000000  \n"
     ]
    }
   ],
   "source": [
    "# Correlation Matrix\n",
    "generate_and_execute(\n",
    "    \"Calculate and print the correlation matrix between Global_active_power and the three Sub_metering columns.\"\n",
    ")\n"
   ]
  }
 ],
 "metadata": {
  "kernelspec": {
   "display_name": "Python 3",
   "language": "python",
   "name": "python3"
  },
  "language_info": {
   "codemirror_mode": {
    "name": "ipython",
    "version": 3
   },
   "file_extension": ".py",
   "mimetype": "text/x-python",
   "name": "python",
   "nbconvert_exporter": "python",
   "pygments_lexer": "ipython3",
   "version": "3.11.9"
  }
 },
 "nbformat": 4,
 "nbformat_minor": 5
}
